{
 "cells": [
  {
   "cell_type": "code",
   "execution_count": 4,
   "id": "8263500f",
   "metadata": {},
   "outputs": [
    {
     "name": "stdout",
     "output_type": "stream",
     "text": [
      "Collecting vanna[chromadb]\n",
      "  Downloading vanna-0.2.1-py3-none-any.whl (82 kB)\n",
      "     -------------------------------------- 82.4/82.4 kB 924.9 kB/s eta 0:00:00\n",
      "Requirement already satisfied: pandas in c:\\users\\administrator\\anaconda3\\lib\\site-packages (from vanna[chromadb]) (1.5.3)\n",
      "Requirement already satisfied: requests in c:\\users\\administrator\\anaconda3\\lib\\site-packages (from vanna[chromadb]) (2.28.1)\n",
      "Requirement already satisfied: plotly in c:\\users\\administrator\\anaconda3\\lib\\site-packages (from vanna[chromadb]) (5.9.0)\n",
      "Requirement already satisfied: flask in c:\\users\\administrator\\anaconda3\\lib\\site-packages (from vanna[chromadb]) (2.2.2)\n",
      "Collecting sqlparse\n",
      "  Downloading sqlparse-0.4.4-py3-none-any.whl (41 kB)\n",
      "     -------------------------------------- 41.2/41.2 kB 658.4 kB/s eta 0:00:00\n",
      "Requirement already satisfied: sqlalchemy in c:\\users\\administrator\\anaconda3\\lib\\site-packages (from vanna[chromadb]) (1.4.39)\n",
      "Requirement already satisfied: tabulate in c:\\users\\administrator\\anaconda3\\lib\\site-packages (from vanna[chromadb]) (0.8.10)\n",
      "Collecting kaleido\n",
      "  Downloading kaleido-0.2.1-py2.py3-none-win_amd64.whl (65.9 MB)\n",
      "     ---------------------------------------- 65.9/65.9 MB 2.0 MB/s eta 0:00:00\n",
      "Collecting chromadb\n",
      "  Downloading chromadb-0.4.24-py3-none-any.whl (525 kB)\n",
      "     -------------------------------------- 525.5/525.5 kB 1.4 MB/s eta 0:00:00\n",
      "Collecting opentelemetry-exporter-otlp-proto-grpc>=1.2.0\n",
      "  Downloading opentelemetry_exporter_otlp_proto_grpc-1.23.0-py3-none-any.whl (18 kB)\n",
      "Collecting bcrypt>=4.0.1\n",
      "  Downloading bcrypt-4.1.2-cp39-abi3-win_amd64.whl (158 kB)\n",
      "     ------------------------------------ 158.3/158.3 kB 175.4 kB/s eta 0:00:00\n",
      "Requirement already satisfied: PyYAML>=6.0.0 in c:\\users\\administrator\\anaconda3\\lib\\site-packages (from chromadb->vanna[chromadb]) (6.0)\n",
      "Collecting kubernetes>=28.1.0\n",
      "  Downloading kubernetes-29.0.0-py2.py3-none-any.whl (1.6 MB)\n",
      "     ---------------------------------------- 1.6/1.6 MB 150.5 kB/s eta 0:00:00\n",
      "Collecting overrides>=7.3.1\n",
      "  Downloading overrides-7.7.0-py3-none-any.whl (17 kB)\n",
      "Requirement already satisfied: numpy>=1.22.5 in c:\\users\\administrator\\anaconda3\\lib\\site-packages (from chromadb->vanna[chromadb]) (1.23.5)\n",
      "Collecting typing-extensions>=4.5.0\n",
      "  Downloading typing_extensions-4.10.0-py3-none-any.whl (33 kB)\n",
      "Collecting tqdm>=4.65.0\n",
      "  Downloading tqdm-4.66.2-py3-none-any.whl (78 kB)\n",
      "     ---------------------------------------- 78.3/78.3 kB 1.4 MB/s eta 0:00:00\n",
      "Collecting build>=1.0.3\n",
      "  Downloading build-1.1.1-py3-none-any.whl (19 kB)\n",
      "Collecting opentelemetry-sdk>=1.2.0\n",
      "  Downloading opentelemetry_sdk-1.23.0-py3-none-any.whl (105 kB)\n",
      "     -------------------------------------- 105.7/105.7 kB 1.2 MB/s eta 0:00:00\n",
      "Collecting tokenizers>=0.13.2\n",
      "  Downloading tokenizers-0.15.2-cp310-none-win_amd64.whl (2.2 MB)\n",
      "     ---------------------------------------- 2.2/2.2 MB 2.5 MB/s eta 0:00:00\n",
      "Collecting onnxruntime>=1.14.1\n",
      "  Downloading onnxruntime-1.17.1-cp310-cp310-win_amd64.whl (5.6 MB)\n",
      "     ---------------------------------------- 5.6/5.6 MB 2.1 MB/s eta 0:00:00\n",
      "Collecting grpcio>=1.58.0\n",
      "  Downloading grpcio-1.62.1-cp310-cp310-win_amd64.whl (3.8 MB)\n",
      "     ---------------------------------------- 3.8/3.8 MB 2.1 MB/s eta 0:00:00\n",
      "Collecting pydantic>=1.9\n",
      "  Downloading pydantic-2.6.4-py3-none-any.whl (394 kB)\n",
      "     -------------------------------------- 394.9/394.9 kB 2.2 MB/s eta 0:00:00\n",
      "Collecting opentelemetry-api>=1.2.0\n",
      "  Downloading opentelemetry_api-1.23.0-py3-none-any.whl (58 kB)\n",
      "     ---------------------------------------- 58.4/58.4 kB 1.0 MB/s eta 0:00:00\n",
      "Collecting chroma-hnswlib==0.7.3\n",
      "  Downloading chroma_hnswlib-0.7.3-cp310-cp310-win_amd64.whl (150 kB)\n",
      "     -------------------------------------- 150.6/150.6 kB 1.5 MB/s eta 0:00:00\n",
      "Collecting importlib-resources\n",
      "  Downloading importlib_resources-6.4.0-py3-none-any.whl (38 kB)\n",
      "Collecting orjson>=3.9.12\n",
      "  Downloading orjson-3.9.15-cp310-none-win_amd64.whl (136 kB)\n",
      "     -------------------------------------- 136.0/136.0 kB 1.3 MB/s eta 0:00:00\n",
      "Collecting pypika>=0.48.9\n",
      "  Downloading PyPika-0.48.9.tar.gz (67 kB)\n",
      "     -------------------------------------- 67.3/67.3 kB 919.7 kB/s eta 0:00:00\n",
      "  Installing build dependencies: started\n",
      "  Installing build dependencies: finished with status 'done'\n",
      "  Getting requirements to build wheel: started\n",
      "  Getting requirements to build wheel: finished with status 'done'\n",
      "  Preparing metadata (pyproject.toml): started\n",
      "  Preparing metadata (pyproject.toml): finished with status 'done'\n",
      "Collecting fastapi>=0.95.2\n",
      "  Downloading fastapi-0.110.0-py3-none-any.whl (92 kB)\n",
      "     -------------------------------------- 92.1/92.1 kB 174.8 kB/s eta 0:00:00\n",
      "Collecting opentelemetry-instrumentation-fastapi>=0.41b0\n",
      "  Downloading opentelemetry_instrumentation_fastapi-0.44b0-py3-none-any.whl (11 kB)\n",
      "Collecting pulsar-client>=3.1.0\n",
      "  Downloading pulsar_client-3.4.0-cp310-cp310-win_amd64.whl (3.4 MB)\n",
      "     ---------------------------------------- 3.4/3.4 MB 665.3 kB/s eta 0:00:00\n",
      "Collecting uvicorn[standard]>=0.18.3\n",
      "  Downloading uvicorn-0.29.0-py3-none-any.whl (60 kB)\n",
      "     -------------------------------------- 60.8/60.8 kB 538.0 kB/s eta 0:00:00\n",
      "Collecting tenacity>=8.2.3\n",
      "  Downloading tenacity-8.2.3-py3-none-any.whl (24 kB)\n",
      "Collecting posthog>=2.4.0\n",
      "  Downloading posthog-3.5.0-py2.py3-none-any.whl (41 kB)\n",
      "     -------------------------------------- 41.3/41.3 kB 248.5 kB/s eta 0:00:00\n",
      "Collecting typer>=0.9.0\n",
      "  Downloading typer-0.10.0-py3-none-any.whl (46 kB)\n",
      "     -------------------------------------- 46.0/46.0 kB 761.2 kB/s eta 0:00:00\n",
      "Collecting mmh3>=4.0.1\n",
      "  Downloading mmh3-4.1.0-cp310-cp310-win_amd64.whl (31 kB)\n",
      "Requirement already satisfied: urllib3<1.27,>=1.21.1 in c:\\users\\administrator\\anaconda3\\lib\\site-packages (from requests->vanna[chromadb]) (1.26.14)\n",
      "Requirement already satisfied: certifi>=2017.4.17 in c:\\users\\administrator\\anaconda3\\lib\\site-packages (from requests->vanna[chromadb]) (2023.5.7)\n",
      "Requirement already satisfied: idna<4,>=2.5 in c:\\users\\administrator\\anaconda3\\lib\\site-packages (from requests->vanna[chromadb]) (3.4)\n",
      "Requirement already satisfied: charset-normalizer<3,>=2 in c:\\users\\administrator\\anaconda3\\lib\\site-packages (from requests->vanna[chromadb]) (2.0.4)\n",
      "Requirement already satisfied: Jinja2>=3.0 in c:\\users\\administrator\\anaconda3\\lib\\site-packages (from flask->vanna[chromadb]) (3.1.2)\n",
      "Requirement already satisfied: Werkzeug>=2.2.2 in c:\\users\\administrator\\anaconda3\\lib\\site-packages (from flask->vanna[chromadb]) (2.2.2)\n",
      "Requirement already satisfied: itsdangerous>=2.0 in c:\\users\\administrator\\anaconda3\\lib\\site-packages (from flask->vanna[chromadb]) (2.0.1)\n",
      "Requirement already satisfied: click>=8.0 in c:\\users\\administrator\\anaconda3\\lib\\site-packages (from flask->vanna[chromadb]) (8.0.4)\n",
      "Requirement already satisfied: python-dateutil>=2.8.1 in c:\\users\\administrator\\anaconda3\\lib\\site-packages (from pandas->vanna[chromadb]) (2.8.2)\n",
      "Requirement already satisfied: pytz>=2020.1 in c:\\users\\administrator\\anaconda3\\lib\\site-packages (from pandas->vanna[chromadb]) (2022.7)\n",
      "Requirement already satisfied: greenlet!=0.4.17 in c:\\users\\administrator\\anaconda3\\lib\\site-packages (from sqlalchemy->vanna[chromadb]) (2.0.1)\n",
      "Requirement already satisfied: colorama in c:\\users\\administrator\\anaconda3\\lib\\site-packages (from build>=1.0.3->chromadb->vanna[chromadb]) (0.4.6)\n",
      "Requirement already satisfied: packaging>=19.0 in c:\\users\\administrator\\anaconda3\\lib\\site-packages (from build>=1.0.3->chromadb->vanna[chromadb]) (22.0)\n",
      "Requirement already satisfied: tomli>=1.1.0 in c:\\users\\administrator\\anaconda3\\lib\\site-packages (from build>=1.0.3->chromadb->vanna[chromadb]) (2.0.1)\n",
      "Collecting pyproject_hooks\n",
      "  Downloading pyproject_hooks-1.0.0-py3-none-any.whl (9.3 kB)\n",
      "Collecting starlette<0.37.0,>=0.36.3\n",
      "  Downloading starlette-0.36.3-py3-none-any.whl (71 kB)\n",
      "     -------------------------------------- 71.5/71.5 kB 489.9 kB/s eta 0:00:00\n",
      "Requirement already satisfied: MarkupSafe>=2.0 in c:\\users\\administrator\\anaconda3\\lib\\site-packages (from Jinja2>=3.0->flask->vanna[chromadb]) (2.1.1)\n",
      "Collecting requests-oauthlib\n",
      "  Downloading requests_oauthlib-2.0.0-py2.py3-none-any.whl (24 kB)\n",
      "Collecting google-auth>=1.0.1\n",
      "  Downloading google_auth-2.29.0-py2.py3-none-any.whl (189 kB)\n",
      "     ------------------------------------ 189.2/189.2 kB 108.1 kB/s eta 0:00:00\n",
      "Collecting oauthlib>=3.2.2\n",
      "  Downloading oauthlib-3.2.2-py3-none-any.whl (151 kB)\n",
      "     ------------------------------------ 151.7/151.7 kB 752.4 kB/s eta 0:00:00\n",
      "Requirement already satisfied: websocket-client!=0.40.0,!=0.41.*,!=0.42.*,>=0.32.0 in c:\\users\\administrator\\anaconda3\\lib\\site-packages (from kubernetes>=28.1.0->chromadb->vanna[chromadb]) (0.58.0)\n",
      "Requirement already satisfied: six>=1.9.0 in c:\\users\\administrator\\anaconda3\\lib\\site-packages (from kubernetes>=28.1.0->chromadb->vanna[chromadb]) (1.16.0)\n",
      "Collecting flatbuffers\n",
      "  Downloading flatbuffers-24.3.7-py2.py3-none-any.whl (26 kB)\n",
      "Collecting coloredlogs\n",
      "  Downloading coloredlogs-15.0.1-py2.py3-none-any.whl (46 kB)\n",
      "     -------------------------------------- 46.0/46.0 kB 761.2 kB/s eta 0:00:00\n",
      "Collecting protobuf\n",
      "  Downloading protobuf-5.26.0-cp310-abi3-win_amd64.whl (420 kB)\n",
      "     -------------------------------------- 420.9/420.9 kB 1.5 MB/s eta 0:00:00\n",
      "Requirement already satisfied: sympy in c:\\users\\administrator\\anaconda3\\lib\\site-packages (from onnxruntime>=1.14.1->chromadb->vanna[chromadb]) (1.11.1)\n",
      "Collecting deprecated>=1.2.6\n",
      "  Downloading Deprecated-1.2.14-py2.py3-none-any.whl (9.6 kB)\n",
      "Collecting importlib-metadata<7.0,>=6.0\n",
      "  Downloading importlib_metadata-6.11.0-py3-none-any.whl (23 kB)\n",
      "Collecting googleapis-common-protos~=1.52\n",
      "  Downloading googleapis_common_protos-1.63.0-py2.py3-none-any.whl (229 kB)\n",
      "     -------------------------------------- 229.1/229.1 kB 1.3 MB/s eta 0:00:00\n",
      "Collecting opentelemetry-proto==1.23.0\n",
      "  Downloading opentelemetry_proto-1.23.0-py3-none-any.whl (50 kB)\n",
      "     -------------------------------------- 50.8/50.8 kB 653.7 kB/s eta 0:00:00\n",
      "Collecting opentelemetry-exporter-otlp-proto-common==1.23.0\n",
      "  Downloading opentelemetry_exporter_otlp_proto_common-1.23.0-py3-none-any.whl (17 kB)\n",
      "Collecting protobuf\n",
      "  Downloading protobuf-4.25.3-cp310-abi3-win_amd64.whl (413 kB)\n",
      "     ------------------------------------ 413.4/413.4 kB 859.6 kB/s eta 0:00:00\n",
      "Collecting opentelemetry-instrumentation==0.44b0\n",
      "  Downloading opentelemetry_instrumentation-0.44b0-py3-none-any.whl (28 kB)\n",
      "Collecting opentelemetry-util-http==0.44b0\n",
      "  Downloading opentelemetry_util_http-0.44b0-py3-none-any.whl (6.9 kB)\n",
      "Collecting opentelemetry-instrumentation-asgi==0.44b0\n",
      "  Downloading opentelemetry_instrumentation_asgi-0.44b0-py3-none-any.whl (14 kB)\n",
      "Collecting opentelemetry-semantic-conventions==0.44b0\n",
      "  Downloading opentelemetry_semantic_conventions-0.44b0-py3-none-any.whl (36 kB)\n",
      "Requirement already satisfied: wrapt<2.0.0,>=1.0.0 in c:\\users\\administrator\\anaconda3\\lib\\site-packages (from opentelemetry-instrumentation==0.44b0->opentelemetry-instrumentation-fastapi>=0.41b0->chromadb->vanna[chromadb]) (1.14.1)\n",
      "Requirement already satisfied: setuptools>=16.0 in c:\\users\\administrator\\anaconda3\\lib\\site-packages (from opentelemetry-instrumentation==0.44b0->opentelemetry-instrumentation-fastapi>=0.41b0->chromadb->vanna[chromadb]) (65.6.3)\n",
      "Collecting asgiref~=3.0\n",
      "  Downloading asgiref-3.8.1-py3-none-any.whl (23 kB)\n",
      "Collecting backoff>=1.10.0\n",
      "  Downloading backoff-2.2.1-py3-none-any.whl (15 kB)\n",
      "Collecting monotonic>=1.5\n",
      "  Downloading monotonic-1.6-py2.py3-none-any.whl (8.2 kB)\n",
      "Collecting pydantic-core==2.16.3\n",
      "  Downloading pydantic_core-2.16.3-cp310-none-win_amd64.whl (1.9 MB)\n",
      "     ---------------------------------------- 1.9/1.9 MB 1.3 MB/s eta 0:00:00\n",
      "Collecting annotated-types>=0.4.0\n",
      "  Downloading annotated_types-0.6.0-py3-none-any.whl (12 kB)\n",
      "Collecting huggingface_hub<1.0,>=0.16.4\n",
      "  Downloading huggingface_hub-0.21.4-py3-none-any.whl (346 kB)\n",
      "     -------------------------------------- 346.4/346.4 kB 1.5 MB/s eta 0:00:00\n",
      "Collecting h11>=0.8\n",
      "  Downloading h11-0.14.0-py3-none-any.whl (58 kB)\n",
      "     -------------------------------------- 58.3/58.3 kB 139.6 kB/s eta 0:00:00\n",
      "Collecting httptools>=0.5.0\n",
      "  Downloading httptools-0.6.1-cp310-cp310-win_amd64.whl (58 kB)\n",
      "     -------------------------------------- 58.2/58.2 kB 509.8 kB/s eta 0:00:00\n",
      "Collecting watchfiles>=0.13\n",
      "  Downloading watchfiles-0.21.0-cp310-none-win_amd64.whl (279 kB)\n",
      "     ------------------------------------ 279.7/279.7 kB 860.8 kB/s eta 0:00:00\n",
      "Collecting python-dotenv>=0.13\n",
      "  Downloading python_dotenv-1.0.1-py3-none-any.whl (19 kB)\n",
      "Collecting websockets>=10.4\n",
      "  Downloading websockets-12.0-cp310-cp310-win_amd64.whl (124 kB)\n",
      "     ------------------------------------ 125.0/125.0 kB 367.7 kB/s eta 0:00:00\n",
      "Collecting rsa<5,>=3.1.4\n",
      "  Downloading rsa-4.9-py3-none-any.whl (34 kB)\n",
      "Requirement already satisfied: pyasn1-modules>=0.2.1 in c:\\users\\administrator\\anaconda3\\lib\\site-packages (from google-auth>=1.0.1->kubernetes>=28.1.0->chromadb->vanna[chromadb]) (0.2.8)\n",
      "Collecting cachetools<6.0,>=2.0.0\n",
      "  Downloading cachetools-5.3.3-py3-none-any.whl (9.3 kB)\n",
      "Collecting fsspec>=2023.5.0\n",
      "  Downloading fsspec-2024.3.1-py3-none-any.whl (171 kB)\n",
      "     -------------------------------------- 172.0/172.0 kB 1.3 MB/s eta 0:00:00\n",
      "Requirement already satisfied: filelock in c:\\users\\administrator\\anaconda3\\lib\\site-packages (from huggingface_hub<1.0,>=0.16.4->tokenizers>=0.13.2->chromadb->vanna[chromadb]) (3.9.0)\n",
      "Requirement already satisfied: zipp>=0.5 in c:\\users\\administrator\\anaconda3\\lib\\site-packages (from importlib-metadata<7.0,>=6.0->opentelemetry-api>=1.2.0->chromadb->vanna[chromadb]) (3.11.0)\n",
      "Requirement already satisfied: anyio<5,>=3.4.0 in c:\\users\\administrator\\anaconda3\\lib\\site-packages (from starlette<0.37.0,>=0.36.3->fastapi>=0.95.2->chromadb->vanna[chromadb]) (3.5.0)\n",
      "Collecting humanfriendly>=9.1\n",
      "  Downloading humanfriendly-10.0-py2.py3-none-any.whl (86 kB)\n",
      "     -------------------------------------- 86.8/86.8 kB 175.2 kB/s eta 0:00:00\n",
      "Requirement already satisfied: mpmath>=0.19 in c:\\users\\administrator\\anaconda3\\lib\\site-packages (from sympy->onnxruntime>=1.14.1->chromadb->vanna[chromadb]) (1.2.1)\n",
      "Requirement already satisfied: sniffio>=1.1 in c:\\users\\administrator\\anaconda3\\lib\\site-packages (from anyio<5,>=3.4.0->starlette<0.37.0,>=0.36.3->fastapi>=0.95.2->chromadb->vanna[chromadb]) (1.2.0)\n",
      "Collecting pyreadline3\n",
      "  Downloading pyreadline3-3.4.1-py3-none-any.whl (95 kB)\n",
      "     ---------------------------------------- 95.2/95.2 kB 1.1 MB/s eta 0:00:00\n",
      "Requirement already satisfied: pyasn1<0.5.0,>=0.4.6 in c:\\users\\administrator\\anaconda3\\lib\\site-packages (from pyasn1-modules>=0.2.1->google-auth>=1.0.1->kubernetes>=28.1.0->chromadb->vanna[chromadb]) (0.4.8)\n",
      "Building wheels for collected packages: pypika\n",
      "  Building wheel for pypika (pyproject.toml): started\n",
      "  Building wheel for pypika (pyproject.toml): finished with status 'done'\n",
      "  Created wheel for pypika: filename=PyPika-0.48.9-py2.py3-none-any.whl size=53835 sha256=9c8c556ae606e609fcfb02d7c82f84340961731fb3b812fc79908cbd9394903c\n",
      "  Stored in directory: c:\\users\\administrator\\appdata\\local\\pip\\cache\\wheels\\c4\\41\\b6\\f76a356f0791da799545c23894ceae842eeff054d0eb1fb626\n",
      "Successfully built pypika\n",
      "Installing collected packages: pyreadline3, pypika, monotonic, mmh3, kaleido, flatbuffers, websockets, typing-extensions, tqdm, tenacity, sqlparse, rsa, python-dotenv, pyproject_hooks, pulsar-client, protobuf, overrides, orjson, opentelemetry-util-http, opentelemetry-semantic-conventions, oauthlib, importlib-resources, importlib-metadata, humanfriendly, httptools, h11, grpcio, fsspec, deprecated, chroma-hnswlib, cachetools, bcrypt, backoff, annotated-types, watchfiles, uvicorn, typer, starlette, requests-oauthlib, pydantic-core, posthog, opentelemetry-proto, opentelemetry-api, huggingface_hub, googleapis-common-protos, google-auth, coloredlogs, build, asgiref, vanna, tokenizers, pydantic, opentelemetry-sdk, opentelemetry-instrumentation, opentelemetry-exporter-otlp-proto-common, onnxruntime, kubernetes, opentelemetry-instrumentation-asgi, opentelemetry-exporter-otlp-proto-grpc, fastapi, opentelemetry-instrumentation-fastapi, chromadb\n",
      "  Attempting uninstall: typing-extensions\n",
      "    Found existing installation: typing_extensions 4.4.0\n",
      "    Uninstalling typing_extensions-4.4.0:\n",
      "      Successfully uninstalled typing_extensions-4.4.0\n",
      "  Attempting uninstall: tqdm\n",
      "    Found existing installation: tqdm 4.64.1\n",
      "    Uninstalling tqdm-4.64.1:\n",
      "      Successfully uninstalled tqdm-4.64.1\n",
      "  Attempting uninstall: tenacity\n",
      "    Found existing installation: tenacity 8.0.1\n",
      "    Uninstalling tenacity-8.0.1:\n",
      "      Successfully uninstalled tenacity-8.0.1\n",
      "  Attempting uninstall: importlib-metadata\n",
      "    Found existing installation: importlib-metadata 4.11.3\n",
      "    Uninstalling importlib-metadata-4.11.3:\n",
      "      Successfully uninstalled importlib-metadata-4.11.3\n",
      "  Attempting uninstall: fsspec\n",
      "    Found existing installation: fsspec 2022.11.0\n",
      "    Uninstalling fsspec-2022.11.0:\n",
      "      Successfully uninstalled fsspec-2022.11.0\n",
      "  Attempting uninstall: bcrypt\n",
      "    Found existing installation: bcrypt 3.2.0\n",
      "    Uninstalling bcrypt-3.2.0:\n",
      "      Successfully uninstalled bcrypt-3.2.0\n",
      "  Attempting uninstall: huggingface_hub\n",
      "    Found existing installation: huggingface-hub 0.10.1\n",
      "    Uninstalling huggingface-hub-0.10.1:\n",
      "      Successfully uninstalled huggingface-hub-0.10.1\n",
      "  Attempting uninstall: tokenizers\n",
      "    Found existing installation: tokenizers 0.11.4\n",
      "    Uninstalling tokenizers-0.11.4:\n",
      "      Successfully uninstalled tokenizers-0.11.4\n",
      "Successfully installed annotated-types-0.6.0 asgiref-3.8.1 backoff-2.2.1 bcrypt-4.1.2 build-1.1.1 cachetools-5.3.3 chroma-hnswlib-0.7.3 chromadb-0.4.24 coloredlogs-15.0.1 deprecated-1.2.14 fastapi-0.110.0 flatbuffers-24.3.7 fsspec-2024.3.1 google-auth-2.29.0 googleapis-common-protos-1.63.0 grpcio-1.62.1 h11-0.14.0 httptools-0.6.1 huggingface_hub-0.21.4 humanfriendly-10.0 importlib-metadata-6.11.0 importlib-resources-6.4.0 kaleido-0.2.1 kubernetes-29.0.0 mmh3-4.1.0 monotonic-1.6 oauthlib-3.2.2 onnxruntime-1.17.1 opentelemetry-api-1.23.0 opentelemetry-exporter-otlp-proto-common-1.23.0 opentelemetry-exporter-otlp-proto-grpc-1.23.0 opentelemetry-instrumentation-0.44b0 opentelemetry-instrumentation-asgi-0.44b0 opentelemetry-instrumentation-fastapi-0.44b0 opentelemetry-proto-1.23.0 opentelemetry-sdk-1.23.0 opentelemetry-semantic-conventions-0.44b0 opentelemetry-util-http-0.44b0 orjson-3.9.15 overrides-7.7.0 posthog-3.5.0 protobuf-4.25.3 pulsar-client-3.4.0 pydantic-2.6.4 pydantic-core-2.16.3 pypika-0.48.9 pyproject_hooks-1.0.0 pyreadline3-3.4.1 python-dotenv-1.0.1 requests-oauthlib-2.0.0 rsa-4.9 sqlparse-0.4.4 starlette-0.36.3 tenacity-8.2.3 tokenizers-0.15.2 tqdm-4.66.2 typer-0.10.0 typing-extensions-4.10.0 uvicorn-0.29.0 vanna-0.2.1 watchfiles-0.21.0 websockets-12.0\n",
      "Note: you may need to restart the kernel to use updated packages.\n"
     ]
    },
    {
     "name": "stderr",
     "output_type": "stream",
     "text": [
      "ERROR: pip's dependency resolver does not currently take into account all the packages that are installed. This behaviour is the source of the following dependency conflicts.\n",
      "transformers 4.24.0 requires tokenizers!=0.11.3,<0.14,>=0.11.1, but you have tokenizers 0.15.2 which is incompatible.\n"
     ]
    }
   ],
   "source": [
    "%pip install vanna[chromadb]"
   ]
  },
  {
   "cell_type": "code",
   "execution_count": 5,
   "id": "d7353cb2",
   "metadata": {},
   "outputs": [],
   "source": [
    "from vanna.chromadb.chromadb_vector import ChromaDB_VectorStore"
   ]
  },
  {
   "cell_type": "code",
   "execution_count": 16,
   "id": "d797d30d",
   "metadata": {},
   "outputs": [],
   "source": [
    "from vanna.chromadb.chromadb_vector import ChromaDB_VectorStore\n",
    "class MyVanna(ChromaDB_VectorStore):\n",
    "    def __init__(self, config=None):\n",
    "        ChromaDB_VectorStore.__init__(self, config=config)\n",
    "\n",
    "    def assistant_message(self, text):\n",
    "        # Implement the logic for generating the assistant's message.\n",
    "        pass\n",
    "\n",
    "    def submit_prompt(self, prompt):\n",
    "        # Implement the logic for submitting the prompt to the model.\n",
    "        pass\n",
    "\n",
    "    def system_message(self, text):\n",
    "        # Implement the logic for generating the system's message.\n",
    "        pass\n",
    "\n",
    "    def user_message(self, text):\n",
    "        # Implement the logic for processing the user's message.\n",
    "        pass\n",
    "        \n",
    "vn = MyVanna()"
   ]
  },
  {
   "cell_type": "code",
   "execution_count": 18,
   "id": "53bcb980",
   "metadata": {},
   "outputs": [],
   "source": [
    "vn.connect_to_sqlite(r'C:\\Users\\Administrator\\Documents\\GenAI-Hackathon\\GenAI\\team5_chatbot-develop\\db\\user_detail.db')"
   ]
  },
  {
   "cell_type": "code",
   "execution_count": 19,
   "id": "28fb40c1",
   "metadata": {},
   "outputs": [
    {
     "name": "stdout",
     "output_type": "stream",
     "text": [
      "Adding ddl: CREATE TABLE subscriptions (\n",
      "\tid INTEGER NOT NULL, \n",
      "\tuser_id INTEGER NOT NULL, \n",
      "\tname VARCHAR NOT NULL, \n",
      "\tconcurrent_streams INTEGER NOT NULL, \n",
      "\timage_quality VARCHAR NOT NULL, \n",
      "\tvalidity_in_days INTEGER NOT NULL, \n",
      "\tprice FLOAT NOT NULL, \n",
      "\tPRIMARY KEY (id)\n",
      ")\n"
     ]
    },
    {
     "name": "stderr",
     "output_type": "stream",
     "text": [
      "C:\\Users\\Administrator\\.cache\\chroma\\onnx_models\\all-MiniLM-L6-v2\\onnx.tar.gz: 100%|█| 79.3M/79.3M [05:13<00:00, 265kiB\n"
     ]
    },
    {
     "name": "stdout",
     "output_type": "stream",
     "text": [
      "Adding ddl: CREATE TABLE users (\n",
      "\tid INTEGER NOT NULL, \n",
      "\temail VARCHAR NOT NULL, \n",
      "\tpassword VARCHAR NOT NULL, \n",
      "\tsession_token VARCHAR, \n",
      "\tsession_expiry_time DATETIME, \n",
      "\tPRIMARY KEY (id)\n",
      ")\n",
      "Adding ddl: CREATE INDEX ix_users_email ON users (email)\n"
     ]
    }
   ],
   "source": [
    "df_ddl = vn.run_sql(\"SELECT type, sql FROM sqlite_master WHERE sql is not null\")\n",
    "\n",
    "for ddl in df_ddl['sql'].to_list():\n",
    "  vn.train(ddl=ddl)"
   ]
  },
  {
   "cell_type": "code",
   "execution_count": 27,
   "id": "3ffc7aef",
   "metadata": {},
   "outputs": [
    {
     "data": {
      "text/plain": [
       "'e4a3d140-e2c3-4ba1-b401-f1a7e103cc99-sql'"
      ]
     },
     "execution_count": 27,
     "metadata": {},
     "output_type": "execute_result"
    }
   ],
   "source": [
    "vn.train(question=\"what are the columns in different tables?\",\n",
    "         sql=\"SELECT m.name as table_name,   p.name as column_name FROM   sqlite_master AS m JOIN  pragma_table_info(m.name) AS p WHERE m.type = 'table' ORDER BY m.name, p.cid\")"
   ]
  },
  {
   "cell_type": "code",
   "execution_count": 28,
   "id": "4581c4ce",
   "metadata": {},
   "outputs": [
    {
     "data": {
      "text/html": [
       "<div>\n",
       "<style scoped>\n",
       "    .dataframe tbody tr th:only-of-type {\n",
       "        vertical-align: middle;\n",
       "    }\n",
       "\n",
       "    .dataframe tbody tr th {\n",
       "        vertical-align: top;\n",
       "    }\n",
       "\n",
       "    .dataframe thead th {\n",
       "        text-align: right;\n",
       "    }\n",
       "</style>\n",
       "<table border=\"1\" class=\"dataframe\">\n",
       "  <thead>\n",
       "    <tr style=\"text-align: right;\">\n",
       "      <th></th>\n",
       "      <th>id</th>\n",
       "      <th>question</th>\n",
       "      <th>content</th>\n",
       "      <th>training_data_type</th>\n",
       "    </tr>\n",
       "  </thead>\n",
       "  <tbody>\n",
       "    <tr>\n",
       "      <th>0</th>\n",
       "      <td>e4a3d140-e2c3-4ba1-b401-f1a7e103cc99-sql</td>\n",
       "      <td>what are the columns in different tables?</td>\n",
       "      <td>SELECT m.name as table_name,   p.name as colum...</td>\n",
       "      <td>sql</td>\n",
       "    </tr>\n",
       "    <tr>\n",
       "      <th>0</th>\n",
       "      <td>19cbb092-c097-4280-ad7e-09d097446381-ddl</td>\n",
       "      <td>None</td>\n",
       "      <td>CREATE INDEX ix_users_email ON users (email)</td>\n",
       "      <td>ddl</td>\n",
       "    </tr>\n",
       "    <tr>\n",
       "      <th>1</th>\n",
       "      <td>1d07788d-e3bf-4643-ba14-62d7c0a5a398-ddl</td>\n",
       "      <td>None</td>\n",
       "      <td>CREATE TABLE subscriptions (\\n\\tid INTEGER NOT...</td>\n",
       "      <td>ddl</td>\n",
       "    </tr>\n",
       "    <tr>\n",
       "      <th>2</th>\n",
       "      <td>91d43e6e-67de-4a62-927a-e7a489a389e0-ddl</td>\n",
       "      <td>None</td>\n",
       "      <td>CREATE TABLE users (\\n\\tid INTEGER NOT NULL, \\...</td>\n",
       "      <td>ddl</td>\n",
       "    </tr>\n",
       "  </tbody>\n",
       "</table>\n",
       "</div>"
      ],
      "text/plain": [
       "                                         id  \\\n",
       "0  e4a3d140-e2c3-4ba1-b401-f1a7e103cc99-sql   \n",
       "0  19cbb092-c097-4280-ad7e-09d097446381-ddl   \n",
       "1  1d07788d-e3bf-4643-ba14-62d7c0a5a398-ddl   \n",
       "2  91d43e6e-67de-4a62-927a-e7a489a389e0-ddl   \n",
       "\n",
       "                                    question  \\\n",
       "0  what are the columns in different tables?   \n",
       "0                                       None   \n",
       "1                                       None   \n",
       "2                                       None   \n",
       "\n",
       "                                             content training_data_type  \n",
       "0  SELECT m.name as table_name,   p.name as colum...                sql  \n",
       "0       CREATE INDEX ix_users_email ON users (email)                ddl  \n",
       "1  CREATE TABLE subscriptions (\\n\\tid INTEGER NOT...                ddl  \n",
       "2  CREATE TABLE users (\\n\\tid INTEGER NOT NULL, \\...                ddl  "
      ]
     },
     "execution_count": 28,
     "metadata": {},
     "output_type": "execute_result"
    }
   ],
   "source": [
    "training_data = vn.get_training_data()\n",
    "training_data"
   ]
  },
  {
   "cell_type": "code",
   "execution_count": 32,
   "id": "28b0b449",
   "metadata": {},
   "outputs": [
    {
     "name": "stderr",
     "output_type": "stream",
     "text": [
      "Number of requested results 10 is greater than number of elements in index 1, updating n_results = 1\n",
      "Number of requested results 10 is greater than number of elements in index 3, updating n_results = 3\n"
     ]
    },
    {
     "name": "stdout",
     "output_type": "stream",
     "text": [
      "[None, None, None, None]\n",
      "None\n",
      "expected string or bytes-like object\n"
     ]
    },
    {
     "data": {
      "text/plain": [
       "(None, None, None)"
      ]
     },
     "execution_count": 32,
     "metadata": {},
     "output_type": "execute_result"
    }
   ],
   "source": [
    "vn.ask(\"what are the columns in diferent tables?\")"
   ]
  },
  {
   "cell_type": "code",
   "execution_count": 21,
   "id": "b9840b00",
   "metadata": {},
   "outputs": [
    {
     "name": "stdout",
     "output_type": "stream",
     "text": [
      "Your app is running at:\n",
      "http://localhost:8084\n",
      " * Serving Flask app 'vanna.flask'\n",
      " * Debug mode: off\n"
     ]
    },
    {
     "name": "stderr",
     "output_type": "stream",
     "text": [
      "Number of requested results 10 is greater than number of elements in index 3, updating n_results = 3\n",
      "[2024-03-24 19:58:23,034] ERROR in app: Exception on /api/v0/generate_sql [GET]\n",
      "Traceback (most recent call last):\n",
      "  File \"C:\\Users\\Administrator\\anaconda3\\lib\\site-packages\\flask\\app.py\", line 2525, in wsgi_app\n",
      "    response = self.full_dispatch_request()\n",
      "  File \"C:\\Users\\Administrator\\anaconda3\\lib\\site-packages\\flask\\app.py\", line 1822, in full_dispatch_request\n",
      "    rv = self.handle_user_exception(e)\n",
      "  File \"C:\\Users\\Administrator\\anaconda3\\lib\\site-packages\\flask\\app.py\", line 1820, in full_dispatch_request\n",
      "    rv = self.dispatch_request()\n",
      "  File \"C:\\Users\\Administrator\\anaconda3\\lib\\site-packages\\flask\\app.py\", line 1796, in dispatch_request\n",
      "    return self.ensure_sync(self.view_functions[rule.endpoint])(**view_args)\n",
      "  File \"C:\\Users\\Administrator\\anaconda3\\lib\\site-packages\\vanna\\flask\\__init__.py\", line 169, in generate_sql\n",
      "    sql = vn.generate_sql(question=question)\n",
      "  File \"C:\\Users\\Administrator\\anaconda3\\lib\\site-packages\\vanna\\base\\base.py\", line 119, in generate_sql\n",
      "    return self.extract_sql(llm_response)\n",
      "  File \"C:\\Users\\Administrator\\anaconda3\\lib\\site-packages\\vanna\\base\\base.py\", line 123, in extract_sql\n",
      "    sql = re.search(r\"```sql\\n(.*)```\", llm_response, re.DOTALL)\n",
      "  File \"C:\\Users\\Administrator\\anaconda3\\lib\\re.py\", line 200, in search\n",
      "    return _compile(pattern, flags).search(string)\n",
      "TypeError: expected string or bytes-like object\n"
     ]
    },
    {
     "name": "stdout",
     "output_type": "stream",
     "text": [
      "[None, None]\n",
      "None\n"
     ]
    },
    {
     "name": "stderr",
     "output_type": "stream",
     "text": [
      "Number of requested results 10 is greater than number of elements in index 3, updating n_results = 3\n",
      "[2024-03-24 19:58:58,672] ERROR in app: Exception on /api/v0/generate_sql [GET]\n",
      "Traceback (most recent call last):\n",
      "  File \"C:\\Users\\Administrator\\anaconda3\\lib\\site-packages\\flask\\app.py\", line 2525, in wsgi_app\n",
      "    response = self.full_dispatch_request()\n",
      "  File \"C:\\Users\\Administrator\\anaconda3\\lib\\site-packages\\flask\\app.py\", line 1822, in full_dispatch_request\n",
      "    rv = self.handle_user_exception(e)\n",
      "  File \"C:\\Users\\Administrator\\anaconda3\\lib\\site-packages\\flask\\app.py\", line 1820, in full_dispatch_request\n",
      "    rv = self.dispatch_request()\n",
      "  File \"C:\\Users\\Administrator\\anaconda3\\lib\\site-packages\\flask\\app.py\", line 1796, in dispatch_request\n",
      "    return self.ensure_sync(self.view_functions[rule.endpoint])(**view_args)\n",
      "  File \"C:\\Users\\Administrator\\anaconda3\\lib\\site-packages\\vanna\\flask\\__init__.py\", line 169, in generate_sql\n",
      "    sql = vn.generate_sql(question=question)\n",
      "  File \"C:\\Users\\Administrator\\anaconda3\\lib\\site-packages\\vanna\\base\\base.py\", line 119, in generate_sql\n",
      "    return self.extract_sql(llm_response)\n",
      "  File \"C:\\Users\\Administrator\\anaconda3\\lib\\site-packages\\vanna\\base\\base.py\", line 123, in extract_sql\n",
      "    sql = re.search(r\"```sql\\n(.*)```\", llm_response, re.DOTALL)\n",
      "  File \"C:\\Users\\Administrator\\anaconda3\\lib\\re.py\", line 200, in search\n",
      "    return _compile(pattern, flags).search(string)\n",
      "TypeError: expected string or bytes-like object\n"
     ]
    },
    {
     "name": "stdout",
     "output_type": "stream",
     "text": [
      "[None, None]\n",
      "None\n"
     ]
    },
    {
     "name": "stderr",
     "output_type": "stream",
     "text": [
      "Number of requested results 10 is greater than number of elements in index 3, updating n_results = 3\n",
      "[2024-03-24 19:59:36,125] ERROR in app: Exception on /api/v0/generate_sql [GET]\n",
      "Traceback (most recent call last):\n",
      "  File \"C:\\Users\\Administrator\\anaconda3\\lib\\site-packages\\flask\\app.py\", line 2525, in wsgi_app\n",
      "    response = self.full_dispatch_request()\n",
      "  File \"C:\\Users\\Administrator\\anaconda3\\lib\\site-packages\\flask\\app.py\", line 1822, in full_dispatch_request\n",
      "    rv = self.handle_user_exception(e)\n",
      "  File \"C:\\Users\\Administrator\\anaconda3\\lib\\site-packages\\flask\\app.py\", line 1820, in full_dispatch_request\n",
      "    rv = self.dispatch_request()\n",
      "  File \"C:\\Users\\Administrator\\anaconda3\\lib\\site-packages\\flask\\app.py\", line 1796, in dispatch_request\n",
      "    return self.ensure_sync(self.view_functions[rule.endpoint])(**view_args)\n",
      "  File \"C:\\Users\\Administrator\\anaconda3\\lib\\site-packages\\vanna\\flask\\__init__.py\", line 169, in generate_sql\n",
      "    sql = vn.generate_sql(question=question)\n",
      "  File \"C:\\Users\\Administrator\\anaconda3\\lib\\site-packages\\vanna\\base\\base.py\", line 119, in generate_sql\n",
      "    return self.extract_sql(llm_response)\n",
      "  File \"C:\\Users\\Administrator\\anaconda3\\lib\\site-packages\\vanna\\base\\base.py\", line 123, in extract_sql\n",
      "    sql = re.search(r\"```sql\\n(.*)```\", llm_response, re.DOTALL)\n",
      "  File \"C:\\Users\\Administrator\\anaconda3\\lib\\re.py\", line 200, in search\n",
      "    return _compile(pattern, flags).search(string)\n",
      "TypeError: expected string or bytes-like object\n"
     ]
    },
    {
     "name": "stdout",
     "output_type": "stream",
     "text": [
      "[None, None]\n",
      "None\n"
     ]
    }
   ],
   "source": [
    "from vanna.flask import VannaFlaskApp\n",
    "app = VannaFlaskApp(vn)\n",
    "app.run()"
   ]
  },
  {
   "cell_type": "code",
   "execution_count": null,
   "id": "1dcb2280",
   "metadata": {},
   "outputs": [],
   "source": []
  }
 ],
 "metadata": {
  "kernelspec": {
   "display_name": "Python 3 (ipykernel)",
   "language": "python",
   "name": "python3"
  },
  "language_info": {
   "codemirror_mode": {
    "name": "ipython",
    "version": 3
   },
   "file_extension": ".py",
   "mimetype": "text/x-python",
   "name": "python",
   "nbconvert_exporter": "python",
   "pygments_lexer": "ipython3",
   "version": "3.10.9"
  }
 },
 "nbformat": 4,
 "nbformat_minor": 5
}
